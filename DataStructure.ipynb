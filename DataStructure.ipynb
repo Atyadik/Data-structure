{
  "nbformat": 4,
  "nbformat_minor": 0,
  "metadata": {
    "colab": {
      "provenance": []
    },
    "kernelspec": {
      "name": "python3",
      "display_name": "Python 3"
    },
    "language_info": {
      "name": "python"
    }
  },
  "cells": [
    {
      "cell_type": "markdown",
      "source": [
        "## Data **structure**"
      ],
      "metadata": {
        "id": "f8nKYlTOcUNj"
      }
    },
    {
      "cell_type": "markdown",
      "source": [
        "1. What are data structures, and why are they important?\n",
        "\n",
        "Ans-> Data structure is a well organised formate for organizing , storing and accesing the data.There are many efficient way to manage the data based on the characteristics.This also help in our intension on how to use data accordingly.\n",
        "\n",
        "a.selection of right data structure impact the eficiency of work or its uses.\n",
        "\n",
        "b.variors operation on the given data like addition multiplication and many more.\n",
        "\n",
        "c.it helps to conserve memory usage"
      ],
      "metadata": {
        "id": "9R0qcynxcVjn"
      }
    },
    {
      "cell_type": "markdown",
      "source": [
        "2. Explain the difference between mutable and immutable data types with examples.\n",
        "\n",
        "Ans-> Mutabel-The word itself describe its properties of change.mutable data type is the data type in which addition of more element and removal of element is possible.Ex-List,set\n",
        "\n",
        "Immutable-Immutable data type is the data type in which addition of more element and removal of element is not allowed.Ex-string,tuple\n",
        "\n"
      ],
      "metadata": {
        "id": "gbHHK8b9g5rq"
      }
    },
    {
      "cell_type": "markdown",
      "source": [
        "3. What are the main differences between lists and tuples in Python?\n",
        "\n",
        "Ans-> In almost all manner list and tuples are simmilar except one on mutability.List is mutabel  and tuples are immutabel."
      ],
      "metadata": {
        "id": "bQHZM2osiMbf"
      }
    },
    {
      "cell_type": "markdown",
      "source": [
        "4.  Describe how dictionaries store data?\n",
        "\n",
        "Ans-> Dictionaries stores data in the form of keys and values.One can acces value by the help of keys but cannot acces keys by the help of values.Each key is uniqe to retrevial of particular value.You can use string tuple or any immutable data structure which has stable hash value.\n"
      ],
      "metadata": {
        "id": "2r32pq1ui5-m"
      }
    },
    {
      "cell_type": "markdown",
      "source": [
        "5. Why might you use a set instead of a list in Python?\n",
        "\n",
        "Ans-> If the collection of items need to be uniqe then set automatically inforce the uniqueness of data.Set are also optimized for checking the data in set or not.Sets are unorderd so if the ordered of the element not matter that set is better choice"
      ],
      "metadata": {
        "id": "swEcDs4ikTnP"
      }
    },
    {
      "cell_type": "markdown",
      "source": [],
      "metadata": {
        "id": "ffmWWBv5lTMY"
      }
    },
    {
      "cell_type": "markdown",
      "source": [
        "6. What is a string in Python, and how is it different from a list?\n",
        "\n",
        "Ans-> String is a sequence of character where is list is of values or element which can be even string character integer or even other list.\n"
      ],
      "metadata": {
        "id": "vSJuDrUxlWbQ"
      }
    },
    {
      "cell_type": "markdown",
      "source": [
        "7. How do tuples ensure data integrity in Python?\n",
        "\n",
        "Ans-> Tuples are immutable which ensure data integrity.\n"
      ],
      "metadata": {
        "id": "86Isi_ttrzar"
      }
    },
    {
      "cell_type": "markdown",
      "source": [
        "8. What is a hash table, and how does it relate to dictionaries in Python?\n",
        "\n",
        "Ans-> Hash table is data structure that store key-value pair and allow for efficient retrieval of vlaue using unique key or associated key to that vlaue.\n",
        "\n",
        "Key that is provided to the dictionary are first passed through a hash funtion .This funtion generate a hash value which is integer.\n",
        "\n",
        "Hash value determine the storage location and it preserve the order."
      ],
      "metadata": {
        "id": "D2BM_JQHsT1D"
      }
    },
    {
      "cell_type": "markdown",
      "source": [
        "9. Can lists contain different data types in Python?\n",
        "\n",
        "Ans-> Yes,absolutley list contain different data type which may me string , character, integer, float ."
      ],
      "metadata": {
        "id": "QRzUxbQ9uxWB"
      }
    },
    {
      "cell_type": "markdown",
      "source": [
        "10. Explain why strings are immutable in Python?\n",
        "\n",
        "Ans-> Immutability of string ensure data integration and predictability.In multi thread enviornment immutabile object are inherently thread safe.Immutability prevents malicious or accidental alteration of string data."
      ],
      "metadata": {
        "id": "ZEi1lIJGvLOp"
      }
    },
    {
      "cell_type": "markdown",
      "source": [
        "11. What advantages do dictionaries offer over lists for certain tasks?\n",
        "\n",
        "Ans->Dictionary provide fast acces to the values based on the their keys. Because dictionaries used hash table to store their key value pair."
      ],
      "metadata": {
        "id": "Yt1P3_ymw2QX"
      }
    },
    {
      "cell_type": "markdown",
      "source": [
        "12. Describe a scenario where using a tuple would be preferable over a list.\n",
        "\n",
        "Ans-> Tuples are immutable where as list are mutable.Where we dont need to change the data frequently there we use tuple."
      ],
      "metadata": {
        "id": "gBDJYyEuxYg5"
      }
    },
    {
      "cell_type": "markdown",
      "source": [
        "13.  How do sets handle duplicate values in Python?\n",
        "\n",
        "Ans-> Sets are inherently design to store only unique element. If anyone tries to store duplicate set diregrads the duplicate one.\n"
      ],
      "metadata": {
        "id": "RQKkU1bJZzEC"
      }
    },
    {
      "cell_type": "markdown",
      "source": [
        "14.  How does the “in” keyword work differently for lists and dictionaries?\n",
        "\n",
        "Ans-> In keyword in list check if the value is present overall or not where as in dictinory it checks if that key are present or not ."
      ],
      "metadata": {
        "id": "Pd_v0ddSaTh3"
      }
    },
    {
      "cell_type": "markdown",
      "source": [
        "15. Can you modify the elements of a tuple? Explain why or why not?\n",
        "\n",
        "Ans-> No,Tuples cannot be modified as it is immutable.\n",
        "\n",
        "The reason behind its immutability are Performance , safety and Hashability.\n",
        "\n",
        "But tuples can be modified if there is a list inside that tuple then you can change the element inside the list only."
      ],
      "metadata": {
        "id": "u9Pbe3r2bkoQ"
      }
    },
    {
      "cell_type": "markdown",
      "source": [
        "16. What is a nested dictionary, and give an example of its use case?\n",
        "\n",
        "Ans-> Nested dictionary are the dictionary inside dictionary.\n",
        "\n",
        "Ex- student={\"name\":\"Anand\",\"marks\":{\"Math\":93,\"physic\"=92}} so here marks is key and math is key inside marks."
      ],
      "metadata": {
        "id": "m7qeMQ88caML"
      }
    },
    {
      "cell_type": "markdown",
      "source": [
        "17.  Describe the time complexity of accessing elements in a dictionary?\n",
        "\n",
        "Ans-> Since Dictionary uses hashing function to store its key so when you search for key it directly jumps on that keyword no loop is needed.\n",
        "\n",
        "time complexity-O(1)"
      ],
      "metadata": {
        "id": "nBpaM313dOeY"
      }
    },
    {
      "cell_type": "markdown",
      "source": [
        "18.  In what situations are lists preferred over dictionaries?\n",
        "\n",
        "Ans->  In some case list are more prefered over dictionaries when you care about Order or position or when you need to keep duplicate when you need to store hetrogenous element."
      ],
      "metadata": {
        "id": "abVk9rQJdy-Y"
      }
    },
    {
      "cell_type": "markdown",
      "source": [
        "19. Why are dictionaries considered unordered, and how does that affect data retrieval?\n",
        "\n",
        "Ans-> Before Python 3.7 dictionaries are unordered but since 3.7 dictionaries are orderd means it contains the sequence of the input data.\n",
        "\n",
        "It does not affect the data retrieval as it based on key. Accessing data is on keys not on order or unorderd."
      ],
      "metadata": {
        "id": "NXCoXGItepuH"
      }
    },
    {
      "cell_type": "markdown",
      "source": [
        "20.  Explain the difference between a list and a dictionary in terms of data retrieval.\n",
        "\n",
        "Ans-> In List items are stored in specific order and its acces is based on indexing.\n",
        "\n",
        "While in dictionary data is stored in the form of keys and values. Data can retriev by the help of keys.\n"
      ],
      "metadata": {
        "id": "dy8E1NEafmOk"
      }
    },
    {
      "cell_type": "code",
      "source": [
        "# 1. Write a code to create a string with your name and print it\n",
        "\n",
        "name=input(\"Enter you name:\")\n",
        "print(name)"
      ],
      "metadata": {
        "colab": {
          "base_uri": "https://localhost:8080/"
        },
        "id": "reZYdAlQgf72",
        "outputId": "b140109c-af41-4b3c-818c-7f529aade102"
      },
      "execution_count": 1,
      "outputs": [
        {
          "output_type": "stream",
          "name": "stdout",
          "text": [
            "Enter you nameanand\n",
            "anand\n"
          ]
        }
      ]
    },
    {
      "cell_type": "code",
      "source": [
        "# 2. Write a code to find the length of the string \"Hello World\".\n",
        "\n",
        "s=\"Hello World\"\n",
        "len(s)"
      ],
      "metadata": {
        "colab": {
          "base_uri": "https://localhost:8080/"
        },
        "id": "x03WWccDg5V4",
        "outputId": "9d04892b-d761-44fd-8d24-a0d81d5177e5"
      },
      "execution_count": 3,
      "outputs": [
        {
          "output_type": "execute_result",
          "data": {
            "text/plain": [
              "11"
            ]
          },
          "metadata": {},
          "execution_count": 3
        }
      ]
    },
    {
      "cell_type": "code",
      "source": [
        "# 3.Write a code to slice the first 3 characters from the string \"Python Programming\"\n",
        "\n",
        "s=\"Pwskills\"\n",
        "s[0:3]"
      ],
      "metadata": {
        "colab": {
          "base_uri": "https://localhost:8080/",
          "height": 35
        },
        "id": "BNVzzu42hKXa",
        "outputId": "38e8eae8-b704-4a37-f7ac-bac985c830b9"
      },
      "execution_count": 1,
      "outputs": [
        {
          "output_type": "execute_result",
          "data": {
            "text/plain": [
              "'Pws'"
            ],
            "application/vnd.google.colaboratory.intrinsic+json": {
              "type": "string"
            }
          },
          "metadata": {},
          "execution_count": 1
        }
      ]
    },
    {
      "cell_type": "code",
      "source": [
        "#4. Write a code to convert the string \"hello\" to uppercase.\n",
        "\n",
        "s=\"hello\"\n",
        "s.upper()"
      ],
      "metadata": {
        "colab": {
          "base_uri": "https://localhost:8080/",
          "height": 35
        },
        "id": "C9eyd8a1N-vv",
        "outputId": "62747a9b-22a0-4dae-d69e-8d887cd670fe"
      },
      "execution_count": 1,
      "outputs": [
        {
          "output_type": "execute_result",
          "data": {
            "text/plain": [
              "'HELLO'"
            ],
            "application/vnd.google.colaboratory.intrinsic+json": {
              "type": "string"
            }
          },
          "metadata": {},
          "execution_count": 1
        }
      ]
    },
    {
      "cell_type": "code",
      "source": [
        "#5. Write a code to replace the word \"apple\" with \"orange\" in the string \"I like apple\".\n",
        "\n",
        "s = \"I like apple\"\n",
        "new_s=s.replace(\"apple\", \"orange\")\n",
        "print(new_s)"
      ],
      "metadata": {
        "colab": {
          "base_uri": "https://localhost:8080/"
        },
        "id": "lkP4Y8kKOH2B",
        "outputId": "024239e5-9ab2-449e-c9c8-a64f4d136224"
      },
      "execution_count": 6,
      "outputs": [
        {
          "output_type": "stream",
          "name": "stdout",
          "text": [
            "I like orange\n"
          ]
        }
      ]
    },
    {
      "cell_type": "code",
      "source": [
        "#6. Write a code to create a list with numbers 1 to 5 and print it.\n",
        "\n",
        "a=list(range(1,6))\n",
        "print(a)"
      ],
      "metadata": {
        "colab": {
          "base_uri": "https://localhost:8080/"
        },
        "id": "9ZJUZXGyPQ0p",
        "outputId": "ffa9600a-8b88-4657-c77d-b95969dd49e8"
      },
      "execution_count": 8,
      "outputs": [
        {
          "output_type": "stream",
          "name": "stdout",
          "text": [
            "[1, 2, 3, 4, 5]\n"
          ]
        }
      ]
    },
    {
      "cell_type": "code",
      "source": [
        "#7. Write a code to append the number 10 to the list [1, 2, 3, 4].\n",
        "a=[1,2,3,4]\n",
        "a.append(10)\n",
        "print(a)"
      ],
      "metadata": {
        "colab": {
          "base_uri": "https://localhost:8080/"
        },
        "id": "ItNHiJkbPi-A",
        "outputId": "6534e148-19b0-43ad-a98e-cf38617c5e3b"
      },
      "execution_count": 9,
      "outputs": [
        {
          "output_type": "stream",
          "name": "stdout",
          "text": [
            "[1, 2, 3, 4, 10]\n"
          ]
        }
      ]
    },
    {
      "cell_type": "code",
      "source": [
        "#8. Write a code to remove the number 3 from the list [1, 2, 3, 4, 5].\n",
        "\n",
        "a=[1,2,3,4,5]\n",
        "a.remove(3)\n",
        "print(a)"
      ],
      "metadata": {
        "colab": {
          "base_uri": "https://localhost:8080/"
        },
        "id": "cwT0HgvYPv8P",
        "outputId": "aca46143-d3c6-4258-abe1-1abb95a31530"
      },
      "execution_count": 10,
      "outputs": [
        {
          "output_type": "stream",
          "name": "stdout",
          "text": [
            "[1, 2, 4, 5]\n"
          ]
        }
      ]
    },
    {
      "cell_type": "code",
      "source": [
        "#9. Write a code to access the second element in the list ['a', 'b', 'c', 'd'].\n",
        "\n",
        "a=['a', 'b', 'c', 'd']\n",
        "a[1]"
      ],
      "metadata": {
        "colab": {
          "base_uri": "https://localhost:8080/",
          "height": 35
        },
        "id": "jsq2nML6QA9m",
        "outputId": "fd0c8923-8c31-4808-b14a-735962436270"
      },
      "execution_count": 11,
      "outputs": [
        {
          "output_type": "execute_result",
          "data": {
            "text/plain": [
              "'b'"
            ],
            "application/vnd.google.colaboratory.intrinsic+json": {
              "type": "string"
            }
          },
          "metadata": {},
          "execution_count": 11
        }
      ]
    },
    {
      "cell_type": "code",
      "source": [
        "#10. Write a code to reverse the list [10, 20, 30, 40, 50].\n",
        "\n",
        "list=[10, 20, 30, 40, 50]\n",
        "list[::-1]"
      ],
      "metadata": {
        "colab": {
          "base_uri": "https://localhost:8080/"
        },
        "id": "Pb9vIc9BQNgV",
        "outputId": "90b671a8-ffad-461e-cee5-d8e2a50ba9a4"
      },
      "execution_count": 12,
      "outputs": [
        {
          "output_type": "execute_result",
          "data": {
            "text/plain": [
              "[50, 40, 30, 20, 10]"
            ]
          },
          "metadata": {},
          "execution_count": 12
        }
      ]
    },
    {
      "cell_type": "code",
      "source": [
        "#11.  Write a code to create a tuple with the elements 100, 200, 300 and print it.\n",
        "\n",
        "tuple1 = (100, 200, 300)\n",
        "print(tuple1)"
      ],
      "metadata": {
        "colab": {
          "base_uri": "https://localhost:8080/"
        },
        "id": "yXlepeCmQdz0",
        "outputId": "d942fd5d-7a3d-44d5-e6e6-3623a69be94e"
      },
      "execution_count": 13,
      "outputs": [
        {
          "output_type": "stream",
          "name": "stdout",
          "text": [
            "(100, 200, 300)\n"
          ]
        }
      ]
    },
    {
      "cell_type": "code",
      "source": [
        "#12. Write a code to access the second-to-last element of the tuple ('red', 'green', 'blue', 'yellow').\n",
        "\n",
        "tuple1 = ('red', 'green', 'blue', 'yellow')\n",
        "tuple1[-2]"
      ],
      "metadata": {
        "colab": {
          "base_uri": "https://localhost:8080/",
          "height": 35
        },
        "id": "300EUmSQQkxl",
        "outputId": "c90fabfe-62e8-4d41-8d1a-279a6bf11ae8"
      },
      "execution_count": 14,
      "outputs": [
        {
          "output_type": "execute_result",
          "data": {
            "text/plain": [
              "'blue'"
            ],
            "application/vnd.google.colaboratory.intrinsic+json": {
              "type": "string"
            }
          },
          "metadata": {},
          "execution_count": 14
        }
      ]
    },
    {
      "cell_type": "code",
      "source": [
        "#13.  Write a code to find the minimum number in the tuple (10, 20, 5, 15).\n",
        "\n",
        "tuple=(10,20,5,15)\n",
        "min(tuple)"
      ],
      "metadata": {
        "colab": {
          "base_uri": "https://localhost:8080/"
        },
        "id": "KaNC6x4OQu__",
        "outputId": "8f825e08-505f-4c43-8298-2de51f2f3350"
      },
      "execution_count": 16,
      "outputs": [
        {
          "output_type": "execute_result",
          "data": {
            "text/plain": [
              "5"
            ]
          },
          "metadata": {},
          "execution_count": 16
        }
      ]
    },
    {
      "cell_type": "code",
      "source": [
        "#14.  Write a code to find the index of the element \"cat\" in the tuple ('dog', 'cat', 'rabbit').\n",
        "\n",
        "tuple=('dog', 'cat', 'rabbit')\n",
        "tuple.index('cat')"
      ],
      "metadata": {
        "colab": {
          "base_uri": "https://localhost:8080/"
        },
        "id": "fHJj3Og6RJna",
        "outputId": "732c7435-5a34-4e51-8f9a-1f42dc69f1f9"
      },
      "execution_count": 17,
      "outputs": [
        {
          "output_type": "execute_result",
          "data": {
            "text/plain": [
              "1"
            ]
          },
          "metadata": {},
          "execution_count": 17
        }
      ]
    },
    {
      "cell_type": "code",
      "source": [
        "#15.  Write a code to create a tuple containing three different fruits and check if \"kiwi\" is in it.\n",
        "\n",
        "tuple=('apple', 'bananna', 'kiwi')\n",
        "\"kiwi\" in tuple"
      ],
      "metadata": {
        "colab": {
          "base_uri": "https://localhost:8080/"
        },
        "id": "zDNIiO_sRZLA",
        "outputId": "9cc6968e-999f-4bcf-c510-d7a8a86e0dce"
      },
      "execution_count": 18,
      "outputs": [
        {
          "output_type": "execute_result",
          "data": {
            "text/plain": [
              "True"
            ]
          },
          "metadata": {},
          "execution_count": 18
        }
      ]
    },
    {
      "cell_type": "code",
      "source": [
        "#16. Write a code to create a set with the elements 'a', 'b', 'c' and print it.\n",
        "\n",
        "set = {'a', 'b', 'c'}\n",
        "print(set)"
      ],
      "metadata": {
        "colab": {
          "base_uri": "https://localhost:8080/"
        },
        "id": "r8HT8qUQRrhb",
        "outputId": "1dd96c0f-320b-4dc8-8f68-757cb90b8d7f"
      },
      "execution_count": 19,
      "outputs": [
        {
          "output_type": "stream",
          "name": "stdout",
          "text": [
            "{'b', 'a', 'c'}\n"
          ]
        }
      ]
    },
    {
      "cell_type": "code",
      "source": [
        "#17. Write a code to clear all elements from the set {1, 2, 3, 4, 5}.\n",
        "\n",
        "set={1,2,3,4,5}\n",
        "print(set)\n",
        "set.clear()\n",
        "print(set)"
      ],
      "metadata": {
        "colab": {
          "base_uri": "https://localhost:8080/"
        },
        "id": "eymwzg2jRyoh",
        "outputId": "42a7213c-29db-4fa5-9cd0-08c12a494e05"
      },
      "execution_count": 22,
      "outputs": [
        {
          "output_type": "stream",
          "name": "stdout",
          "text": [
            "{1, 2, 3, 4, 5}\n",
            "set()\n"
          ]
        }
      ]
    },
    {
      "cell_type": "code",
      "source": [
        "#18. Write a code to remove the element 4 from the set {1, 2, 3, 4}.\n",
        "\n",
        "set={1,2,3,4}\n",
        "set.remove(4)\n",
        "print(set)"
      ],
      "metadata": {
        "colab": {
          "base_uri": "https://localhost:8080/"
        },
        "id": "qDotXgDASMsc",
        "outputId": "406ab213-8dab-4b96-8938-e07b7aefb499"
      },
      "execution_count": 23,
      "outputs": [
        {
          "output_type": "stream",
          "name": "stdout",
          "text": [
            "{1, 2, 3}\n"
          ]
        }
      ]
    },
    {
      "cell_type": "code",
      "source": [
        "#19.  Write a code to find the union of two sets {1, 2, 3} and {3, 4, 5}.\n",
        "\n",
        "s1={1,2,3}\n",
        "s2={3,4,5}\n",
        "s3=s1|s2\n",
        "print(s3)"
      ],
      "metadata": {
        "colab": {
          "base_uri": "https://localhost:8080/"
        },
        "id": "7ssCrgNGSd8F",
        "outputId": "7e079bac-8cc0-4d90-fc00-f7fc3d017de0"
      },
      "execution_count": 26,
      "outputs": [
        {
          "output_type": "stream",
          "name": "stdout",
          "text": [
            "{1, 2, 3, 4, 5}\n"
          ]
        }
      ]
    },
    {
      "cell_type": "code",
      "source": [
        "#20. Write a code to find the intersection of two sets {1, 2, 3} and {2, 3, 4}.\n",
        "\n",
        "s1={1,2,3}\n",
        "s2={3,4,5}\n",
        "s3=s1&s2\n",
        "print(s3)"
      ],
      "metadata": {
        "colab": {
          "base_uri": "https://localhost:8080/"
        },
        "id": "yJgKV4KeSySu",
        "outputId": "c7f08c4a-c022-4818-bb5f-bc36e11c96ba"
      },
      "execution_count": 27,
      "outputs": [
        {
          "output_type": "stream",
          "name": "stdout",
          "text": [
            "{3}\n"
          ]
        }
      ]
    },
    {
      "cell_type": "code",
      "source": [
        "#21. Write a code to create a dictionary with the keys \"name\", \"age\", and \"city\", and print it.\n",
        "\n",
        "dict={\"name\":\"Anand\",\"age\":20,\"city\":\"Mumbai\"}\n",
        "print(dict)"
      ],
      "metadata": {
        "colab": {
          "base_uri": "https://localhost:8080/"
        },
        "id": "wYekSTSPTDDz",
        "outputId": "c6d9d833-f025-4f75-d9b3-77df38f80297"
      },
      "execution_count": 28,
      "outputs": [
        {
          "output_type": "stream",
          "name": "stdout",
          "text": [
            "{'name': 'Anand', 'age': 20, 'city': 'Mumbai'}\n"
          ]
        }
      ]
    },
    {
      "cell_type": "code",
      "source": [
        "#22. Write a code to add a new key-value pair \"country\": \"USA\" to the dictionary {'name': 'John', 'age': 25}.\n",
        "\n",
        "dict={'name': 'John', 'age': 25}\n",
        "dict[\"country\"]=\"USA\"\n",
        "print(dict)\n"
      ],
      "metadata": {
        "colab": {
          "base_uri": "https://localhost:8080/"
        },
        "id": "Q_pZ-vHnTOXw",
        "outputId": "e19471c2-1cb6-4827-ab3e-79b6f5c14923"
      },
      "execution_count": 29,
      "outputs": [
        {
          "output_type": "stream",
          "name": "stdout",
          "text": [
            "{'name': 'John', 'age': 25, 'country': 'USA'}\n"
          ]
        }
      ]
    },
    {
      "cell_type": "code",
      "source": [
        "#23.  Write a code to access the value associated with the key \"name\" in the dictionary {'name': 'Alice', 'age': 30}.\n",
        "\n",
        "dict={\"name\":\"Alice\",\"age\":30}\n",
        "dict[\"name\"]"
      ],
      "metadata": {
        "colab": {
          "base_uri": "https://localhost:8080/",
          "height": 35
        },
        "id": "gCxd7g-ITlFl",
        "outputId": "8a429df2-5a44-4591-cb8a-8a9a5cb54c73"
      },
      "execution_count": 31,
      "outputs": [
        {
          "output_type": "execute_result",
          "data": {
            "text/plain": [
              "'Alice'"
            ],
            "application/vnd.google.colaboratory.intrinsic+json": {
              "type": "string"
            }
          },
          "metadata": {},
          "execution_count": 31
        }
      ]
    },
    {
      "cell_type": "code",
      "source": [
        "#24.Write a code to remove the key \"age\" from the dictionary {'name': 'Bob', 'age': 22, 'city': 'New York'}.\n",
        "\n",
        "dict={'name': 'Bob', 'age': 22, 'city': 'New York'}\n",
        "dict.pop(\"age\")\n",
        "print(dict)"
      ],
      "metadata": {
        "colab": {
          "base_uri": "https://localhost:8080/"
        },
        "id": "K3T9XPspTtiZ",
        "outputId": "38884f7d-804f-4a2e-df86-05e7ff2c80ee"
      },
      "execution_count": 33,
      "outputs": [
        {
          "output_type": "stream",
          "name": "stdout",
          "text": [
            "{'name': 'Bob', 'city': 'New York'}\n"
          ]
        }
      ]
    },
    {
      "cell_type": "code",
      "source": [
        "#25. Write a code to check if the key \"city\" exists in the dictionary {'name': 'Alice', 'city': 'Paris'}.\n",
        "\n",
        "dict={'name': 'Alice', 'city': 'Paris'}\n",
        "\n",
        "if \"city\" in dict:\n",
        "  print(\"city is present\")\n",
        "else:\n",
        "  print(\"city is not present\")"
      ],
      "metadata": {
        "colab": {
          "base_uri": "https://localhost:8080/"
        },
        "id": "8fRcIaccULs2",
        "outputId": "65948551-12d2-49b7-ebd2-34c48bfba77e"
      },
      "execution_count": 34,
      "outputs": [
        {
          "output_type": "stream",
          "name": "stdout",
          "text": [
            "city is present\n"
          ]
        }
      ]
    },
    {
      "cell_type": "code",
      "source": [
        "#26. Write a code to create a list, a tuple, and a dictionary, and print them all.\n",
        "\n",
        "list=[1,2,3,4]\n",
        "tuple=(4,5,6,7)\n",
        "dict={\"name\":\"Anand\",\"age\":20,\"city\":\"Mumbai\"}\n",
        "print(list)\n",
        "print(tuple)\n",
        "print(dict)"
      ],
      "metadata": {
        "colab": {
          "base_uri": "https://localhost:8080/"
        },
        "id": "gEqR079oUjLh",
        "outputId": "ba0ee484-896a-475b-b030-393363bc543d"
      },
      "execution_count": 35,
      "outputs": [
        {
          "output_type": "stream",
          "name": "stdout",
          "text": [
            "[1, 2, 3, 4]\n",
            "(4, 5, 6, 7)\n",
            "{'name': 'Anand', 'age': 20, 'city': 'Mumbai'}\n"
          ]
        }
      ]
    },
    {
      "cell_type": "code",
      "source": [
        "#27.  Write a code to create a list of 5 random numbers between 1 and 100, sort it in ascending order, and print the result.\n",
        "\n",
        "list=[98,56,78,34,12]\n",
        "list.sort()\n",
        "print(list)\n"
      ],
      "metadata": {
        "colab": {
          "base_uri": "https://localhost:8080/"
        },
        "id": "fyYG2kxaUxO9",
        "outputId": "988c1892-a7d1-4a29-9b10-62f9492d1f12"
      },
      "execution_count": 36,
      "outputs": [
        {
          "output_type": "stream",
          "name": "stdout",
          "text": [
            "[12, 34, 56, 78, 98]\n"
          ]
        }
      ]
    },
    {
      "cell_type": "code",
      "source": [
        "#28. Write a code to create a list with strings and print the element at the third index.\n",
        "\n",
        "list=[\"Anand\",\"Ajay\",\"Bijay\",\"Sanjay\"]\n",
        "list[2]"
      ],
      "metadata": {
        "colab": {
          "base_uri": "https://localhost:8080/",
          "height": 35
        },
        "id": "NI-_m6rJVNkX",
        "outputId": "dababc66-8db6-448f-c29f-88ef90d379fe"
      },
      "execution_count": 37,
      "outputs": [
        {
          "output_type": "execute_result",
          "data": {
            "text/plain": [
              "'Bijay'"
            ],
            "application/vnd.google.colaboratory.intrinsic+json": {
              "type": "string"
            }
          },
          "metadata": {},
          "execution_count": 37
        }
      ]
    },
    {
      "cell_type": "code",
      "source": [
        "#29.Write a code to combine two dictionaries into one and print the result.\n",
        "\n",
        "dict1={\"name\":\"Anand\",\"age\":20}\n",
        "dict2={\"city\":\"Mumbai\",\"country\":\"India\"}\n",
        "dict1|dict2 or #dict1.update(dict2)\n"
      ],
      "metadata": {
        "colab": {
          "base_uri": "https://localhost:8080/"
        },
        "id": "rwAH-bXMVdXu",
        "outputId": "09ee8e4a-0929-47b8-9db9-44282e2afcfc"
      },
      "execution_count": 38,
      "outputs": [
        {
          "output_type": "execute_result",
          "data": {
            "text/plain": [
              "{'name': 'Anand', 'age': 20, 'city': 'Mumbai', 'country': 'India'}"
            ]
          },
          "metadata": {},
          "execution_count": 38
        }
      ]
    },
    {
      "cell_type": "code",
      "source": [
        "#30. Write a code to convert a list of strings into a set.\n",
        "list=[\"Anand\",\"Ajay\",\"Bijay\",\"Sanjay\"]\n",
        "\n",
        "s=set(list)\n",
        "print(s)"
      ],
      "metadata": {
        "colab": {
          "base_uri": "https://localhost:8080/"
        },
        "id": "eVDiY6PsV7Ht",
        "outputId": "2b54ac63-fab6-4811-95ec-880c1b813c5c"
      },
      "execution_count": 55,
      "outputs": [
        {
          "output_type": "stream",
          "name": "stdout",
          "text": [
            "{'Sanjay', 'Bijay', 'Anand', 'Ajay'}\n"
          ]
        }
      ]
    }
  ]
}